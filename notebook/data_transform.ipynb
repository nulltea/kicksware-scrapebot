{
 "cells": [
  {
   "cell_type": "code",
   "execution_count": null,
   "metadata": {
    "scrolled": true
   },
   "outputs": [],
   "source": [
    "import pandas as pd\n",
    "import numpy as np\n",
    "import os\n",
    "import glob\n",
    "import json\n",
    "import demjson\n",
    "import re\n",
    "import uuid\n",
    "import mongoengine as mdb\n",
    "from datetime import datetime"
   ]
  },
  {
   "cell_type": "code",
   "execution_count": null,
   "metadata": {},
   "outputs": [],
   "source": [
    "source_path = \"C:\\source\\data\\scraped\\stadium_goods\\original-details.csv\"\n",
    "path_to_save = \"C:\\source\\data\\scraped\\stadium_goods\"\n",
    "addt_source_path = \"C:\\source\\data\\scraped\\stadium_goods\\categories.csv\""
   ]
  },
  {
   "cell_type": "code",
   "execution_count": null,
   "metadata": {},
   "outputs": [],
   "source": [
    "def to_dict(data):\n",
    "    return [r.to_mongo().to_dict() for r in data]\n",
    "def to_dataframe(data):\n",
    "    dicts = to_dict(data)\n",
    "    fields = list(dicts[0].keys())\n",
    "    return pd.DataFrame(to_dict(data), columns=fields[1:])"
   ]
  },
  {
   "cell_type": "code",
   "execution_count": null,
   "metadata": {
    "pycharm": {
     "name": "#%%\n"
    }
   },
   "outputs": [],
   "source": [
    "mdb.disconnect()\n",
    "mdb.connect(\n",
    "    db=\"sneakerResaleDB\",\n",
    "    host=\"mongodb://db.kicksware.com:443\",\n",
    "    username=\"root\",\n",
    "    password=\"greenJordans\",\n",
    "    authentication_source=\"admin\",\n",
    "    ssl=True,\n",
    "    ssl_ca_certs=\"/source/certs/mongo/ca.pem\"\n",
    ")\n",
    "\n",
    "\n",
    "class SneakerBrand(mdb.Document):\n",
    "    unique_id = mdb.StringField(db_field=\"uniqueid\")\n",
    "    name = mdb.StringField()\n",
    "    logo = mdb.StringField()\n",
    "    hero = mdb.StringField()\n",
    "    description = mdb.StringField()\n",
    "    meta = {\"collection\": \"brands\"}\n",
    "\n",
    "\n",
    "class SneakerModel(mdb.Document):\n",
    "    unique_id = mdb.StringField(db_field=\"uniqueid\")\n",
    "    name = mdb.StringField()\n",
    "    hero = mdb.StringField()\n",
    "    description = mdb.StringField()\n",
    "    meta = {\"collection\": \"models\"}\n",
    "\n",
    "\n",
    "class SneakerReference(mdb.Document):\n",
    "    unique_id = mdb.StringField(db_field=\"uniqueid\")\n",
    "    manufacture_sku = mdb.StringField(db_field=\"manufacturesku\")\n",
    "    brand_name = mdb.StringField(db_field=\"brandname\")\n",
    "    model_name = mdb.StringField(db_field=\"modelname\")\n",
    "    base_model_name = mdb.StringField(db_field=\"basemodelname\")\n",
    "    brand =  mdb.StringField()\n",
    "    model =  mdb.StringField()\n",
    "    basemodel = mdb.StringField()\n",
    "    description = mdb.StringField()\n",
    "    release_date = mdb.DateField(\"releasedate\")\n",
    "    release_strdate = mdb.StringField()\n",
    "    color = mdb.StringField()\n",
    "    gender = mdb.StringField()\n",
    "    nickname = mdb.StringField()\n",
    "    price = mdb.DecimalField()\n",
    "    materials = mdb.ListField()\n",
    "    categories = mdb.ListField()\n",
    "    image_link = mdb.StringField(db_field=\"imagelink\")\n",
    "    image_links = mdb.ListField(db_field=\"imagelinks\")\n",
    "    stadium_url = mdb.StringField(db_field=\"stadiumurl\")\n",
    "    meta = { \"collection\": \"references\", 'strict': False }"
   ]
  },
  {
   "cell_type": "code",
   "execution_count": null,
   "metadata": {
    "pycharm": {
     "name": "#%%\n"
    }
   },
   "outputs": [],
   "source": [
    "df = to_dataframe(SneakerReference.objects())\n",
    "print(f\"Initial: {len(df)}\")\n",
    "pd.set_option(\"max_rows\", 200)"
   ]
  },
  {
   "cell_type": "code",
   "execution_count": null,
   "metadata": {},
   "outputs": [],
   "source": [
    "gk = df.groupby(\"uniqueid\")\n",
    "df = gk.first()\n",
    "print(f\"Distinct: {len(df)}\")"
   ]
  },
  {
   "cell_type": "code",
   "execution_count": null,
   "metadata": {
    "pycharm": {
     "name": "#%%\n"
    }
   },
   "outputs": [],
   "source": [
    "pd.unique(df[\"brand\"].values)"
   ]
  },
  {
   "cell_type": "markdown",
   "metadata": {},
   "source": [
    "Filter data:"
   ]
  },
  {
   "cell_type": "code",
   "execution_count": null,
   "metadata": {},
   "outputs": [],
   "source": [
    "keywords_query = '''Pant|Pants|Coat|Shirt|Reverse|Jacket|Crew|Tee|Pullover|Strapback|Hat|Short|Bottle|Sock|Socks|Hoodie|Beanie|Bomber|Sleeveless|Sweatpants|Sleeve|Sweatshirt|Overshirt|Bandana|Bearbrick|Bag|Belt|Poncho|Parka|Case|Bodysuit|Sunglasses|Glasses|Dress|Stitch|Jeans|Leggings|Lock|Luggage|Gilet|Wipes|Essential Kit|Sneaker Box|Wallet|Chain|Stone Island|Swim|Pullove|Famous|Pablo|Romantic|Jersey Top|Tank Top|Track Top|Anorak|Joggi|Zimmermann|Cubs|Cushion|Flower|Football|T-Sh|Kimono|Astroworld|Pajama|Pocket|Knife|Organizer|Pocket|Purse|Look|Basebal|Bodysuit|Crew|Crewneck|Shoulder|Sweater|Camper|Camera|Holder|Card|Strapback|Denim|Body|Hands|Zippy|Script|Swea|Embroidered|Heavyweigh|Neck|Pillow|Hooded|Striped|Cotton|HAT|Button|Manifestation|Collectible|Real Men|Pullover|Balaclava|Skateboard|Popsockets|Polo|Head|Full Zip|Hoo|HOODIE|JACKET'''\n",
    "brand_query = [\n",
    "    \"Ewing\", \"Jordan\", \"Nike\", \"Adidas\", \"Reebok\", \"Asics\", \"Puma\",\n",
    "    \"New Balance\", \"Fila\", \"Converse\", \"Vans\", \"Diadora\",\n",
    "    \"Saucony\", \"Under Armour\", \"Timberland\", \"Clarks\",\n",
    "    \"Bape\", \"GREATS\", \"Diamond Supply\", \"KARHU\", \"Revenge X Storm\",\n",
    "    \"Information Technology\", \"Ice Cream\", \"Footwear\", \"Yeezy\", \"Kryptonite\",\n",
    "    \"Dr Martens\", \"Q4 Sports\", \"Off-White\", \"Kanye West\",\n",
    "    \"Anti Social Social Club\", \"GOLDEN GOOSE\", \"Fear Of God\"\n",
    "]"
   ]
  },
  {
   "cell_type": "code",
   "execution_count": null,
   "metadata": {},
   "outputs": [],
   "source": [
    "print(len(df))\n",
    "qdf = df[df[\"brandname\"].isin(brand_query)]\n",
    "print(len(qdf))\n",
    "\n",
    "#gdf[\"brand\"] = gdf[\"brand\"].map({\"Footwear\": \"Nike\"}).fillna(gdf[\"brand\"]) #todo\n",
    "pd.unique(qdf[\"brand\"].values)\n",
    "qdf"
   ]
  },
  {
   "cell_type": "code",
   "execution_count": null,
   "metadata": {},
   "outputs": [],
   "source": [
    "qdf = qdf[~qdf[\"modelname\"].str.contains(keywords_query)]\n",
    "print(len(qdf))\n",
    "qdf # filtered by keywords"
   ]
  },
  {
   "cell_type": "code",
   "execution_count": null,
   "metadata": {},
   "outputs": [],
   "source": [
    "# handle NaN values\n",
    "qdf = qdf.replace(np.nan, '', regex=True)\n",
    "len(qdf)"
   ]
  },
  {
   "cell_type": "markdown",
   "metadata": {},
   "source": [
    "Data transformation:"
   ]
  },
  {
   "cell_type": "markdown",
   "metadata": {},
   "source": [
    "By catgories:"
   ]
  },
  {
   "cell_type": "code",
   "execution_count": null,
   "metadata": {},
   "outputs": [],
   "source": [
    "def camel_case_split(s):\n",
    "    idx = list(map(str.isupper, s))\n",
    "    l = [0]\n",
    "    for (i, (x, y)) in enumerate(zip(idx, idx[1:])):\n",
    "        if x and not y:\n",
    "            l.append(i)\n",
    "        elif not x and y:\n",
    "            l.append(i+1)\n",
    "    l.append(len(s))\n",
    "    return [s[x:y] for x, y in zip(l, l[1:]) if x < y]\n",
    "    \n",
    "def get_acronym(source):\n",
    "    return \"\".join(filter(str.isupper, source.title()))\n",
    "\n",
    "def determine_base_model(row):\n",
    "    model = row[\"modelname\"]\n",
    "    brand = row[\"brandname\"]\n",
    "    categories = row[\"categories\"]\n",
    "    if not categories:\n",
    "        return None\n",
    "    distances = {}\n",
    "    for category in categories:\n",
    "        distance = sum([word.lower() in model.lower() for word in camel_case_split(category)])\n",
    "        if not distance:\n",
    "                distance = 1 if get_acronym(category) in model else 0\n",
    "        if distance:\n",
    "            distances[category] = distance\n",
    "    \n",
    "    base_model = max(distances or [None], key=distances.get)\n",
    "    return base_model"
   ]
  },
  {
   "cell_type": "code",
   "execution_count": null,
   "metadata": {},
   "outputs": [],
   "source": [
    "df[\"basemodelname\"] = df.apply(determine_base_model, axis=1)\n",
    "df"
   ]
  },
  {
   "cell_type": "markdown",
   "metadata": {},
   "source": [
    "By JSON base model list:"
   ]
  },
  {
   "cell_type": "code",
   "execution_count": null,
   "metadata": {},
   "outputs": [],
   "source": [
    "kdf = pd.read_json(\"../meta/base-model-tags.json\")\n",
    "base_models = kdf[0].tolist()\n",
    "for i, model in enumerate(base_models): # validity check\n",
    "    if any([model in lower for lower in base_models[i+1:]]):\n",
    "        print(model)"
   ]
  },
  {
   "cell_type": "code",
   "execution_count": null,
   "metadata": {},
   "outputs": [],
   "source": [
    "s = df.modelname.str.len().sort_values(ascending=False).index\n",
    "sdf = df.reindex(s)\n",
    "sequence = list(sdf.T.to_dict().values())\n",
    "groups = {}\n",
    "for model in base_models:\n",
    "    child_models = [item for item in sequence if model.upper() in item[\"modelname\"].upper()]\n",
    "    [sequence.remove(item) for item in child_models]\n",
    "    groups[model] = child_models\n",
    "group_analit = { key: len(val) for key, val in groups.items() }"
   ]
  },
  {
   "cell_type": "code",
   "execution_count": null,
   "metadata": {
    "scrolled": true
   },
   "outputs": [],
   "source": [
    "sequence = list()\n",
    "for key, items in groups.items():\n",
    "    sequence.extend([dict(item, basemodel=key) for item in items])\n",
    "gdf = pd.DataFrame(sequence)\n",
    "gdf"
   ]
  },
  {
   "cell_type": "markdown",
   "metadata": {},
   "source": [
    "Replace on better base model names:"
   ]
  },
  {
   "cell_type": "code",
   "execution_count": null,
   "metadata": {},
   "outputs": [],
   "source": [
    "with open(\"../meta/base-model-map.json\", \"r\") as stream:\n",
    "    model_map = json.load(stream)\n",
    "\n",
    "gdf[\"basemodel\"] = gdf[\"basemodel\"].map(model_map).fillna(gdf[\"basemodel\"])\n",
    "pd.unique(gdf[\"basemodel\"].values)"
   ]
  },
  {
   "cell_type": "markdown",
   "metadata": {},
   "source": [
    "Generate brands and models data frames:"
   ]
  },
  {
   "cell_type": "code",
   "execution_count": null,
   "metadata": {},
   "outputs": [],
   "source": [
    "brands_set = set(pd.unique(rdf[\"brand\"].values))\n",
    "all_brands = set(pd.read_json(\"../meta/brands.json\")[0].T.to_dict().values())\n",
    "brands_list = list(brands_set.union(all_brands))\n",
    "brands_list"
   ]
  }
 ],
 "metadata": {
  "kernelspec": {
   "display_name": "Python 3",
   "language": "python",
   "name": "python3"
  },
  "language_info": {
   "codemirror_mode": {
    "name": "ipython",
    "version": 3
   },
   "file_extension": ".py",
   "mimetype": "text/x-python",
   "name": "python",
   "nbconvert_exporter": "python",
   "pygments_lexer": "ipython3",
   "version": "3.7.4"
  }
 },
 "nbformat": 4,
 "nbformat_minor": 1
}
